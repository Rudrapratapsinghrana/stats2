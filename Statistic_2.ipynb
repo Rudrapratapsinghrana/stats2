{
  "nbformat": 4,
  "nbformat_minor": 0,
  "metadata": {
    "colab": {
      "provenance": []
    },
    "kernelspec": {
      "name": "python3",
      "display_name": "Python 3"
    },
    "language_info": {
      "name": "python"
    }
  },
  "cells": [
    {
      "cell_type": "markdown",
      "source": [
        "# STATISTICS ASSIGNMENT 2\n",
        "\n",
        "Q1=> What is hypothesis testing in statistics?\n",
        "\n",
        "ans=> Hypothesis testing is a statistical method used to make decisions or inferences about a population based on sample data\n",
        "\n",
        "\n",
        "Q2=> What is the null hypothesis, and how does it differ from the alternative hypothesis?\n",
        "\n",
        "ans=>The null hypothesis (H₀) assumes no effect or difference, while the alternative hypothesis (H₁) suggests a significant effect or difference\n",
        "\n",
        "\n",
        "Q3=> What is the significance level in hypothesis testing, and why is it important?\n",
        "\n",
        "ans=>The significance level (α) is the probability of rejecting a true null hypothesis, controlling for Type 1 errors.\n",
        "\n",
        "\n",
        "Q4=> What does a P-value represent in hypothesis testing?\n",
        "\n",
        "ans=>The P-value represents the probability of obtaining test results at least as extreme as the observed results, assuming the null hypothesis is true.\n",
        "\n",
        "\n",
        "Q5=> How do you interpret the P-value in hypothesis testing?\n",
        "\n",
        "ans=>A small P-value (≤ α) suggests rejecting H₀, while a large P-value (> α) suggests failing to reject H₀\n",
        "\n",
        "\n",
        "Q6=> What are Type 1 and Type 2 errors in hypothesis testing?\n",
        "\n",
        "ans=>A Type 1 error occurs when H₀ is wrongly rejected, while a Type 2 error occurs when H₀ is wrongly accepted.\n",
        "\n",
        "\n",
        "Q7=> What is the difference between a one-tailed and a two-tailed test in hypothesis testing?\n",
        "\n",
        "ans=>A one-tailed test checks for an effect in one direction, whereas a two-tailed test checks in both directions.\n",
        "\n",
        "\n",
        "Q8=> What is the Z-test, and when is it used in hypothesis testing?\n",
        "\n",
        "ans=>A Z-test is used to compare sample and population means when the population variance is known and the sample size is large (n ≥ 30).\n",
        "\n",
        "\n",
        "Q9=> How do you calculate the Z-score, and what does it represent in hypothesis testing?\n",
        "\n",
        "ans=>The Z-score is calculated as (X - μ) / σ and measures how many standard deviations a data point is from the mean\n",
        "\n",
        "\n",
        "Q10=> What is the T-distribution, and when should it be used instead of the normal distribution?\n",
        "\n",
        "ans=>The T-distribution is used instead of the normal distribution when the sample size is small (n < 30) and the population standard deviation is unknown\n",
        "\n",
        "\n",
        "Q11=> What is the difference between a Z-test and a T-test?\n",
        "\n",
        "ans=>A Z-test is used for large samples with known variance, while a T-test is used for small samples with unknown variance.\n",
        "\n",
        "\n",
        "Q12=> What is the T-test, and how is it used in hypothesis testing?\n",
        "\n",
        "ans=>A T-test is used to compare the means of two groups when the population standard deviation is unknown.\n",
        "\n",
        "\n",
        "Q13=> What is the relationship between Z-test and T-test in hypothesis testing?\n",
        "\n",
        "ans=>Both Z-test and T-test compare means, but T-test is preferred for small samples with unknown variance\n",
        "\n",
        "\n",
        "Q14=> What is a confidence interval, and how is it used to interpret statistical results?\n",
        "\n",
        "ans=>A confidence interval gives a range of values within which the population parameter is expected to lie with a certain probability\n",
        "\n",
        "\n",
        "Q15=> What is the margin of error, and how does it affect the confidence interval?\n",
        "\n",
        "ans=>The margin of error determines the width of a confidence interval and is influenced by sample size and variability.\n",
        "\n",
        "\n",
        "Q16=> How is Bayes' Theorem used in statistics, and what is its significance?\n",
        "\n",
        "ans=>Bayes' Theorem calculates the probability of an event based on prior knowledge of related conditions.\n",
        "\n",
        "\n",
        "Q17=> What is the Chi-square distribution, and when is it used?\n",
        "\n",
        "ans=>The Chi-square distribution is used in tests for categorical data, such as goodness of fit and independence tests.\n",
        "\n",
        "\n",
        "Q18=> What is the Chi-square goodness of fit test, and how is it applied?\n",
        "\n",
        "ans=>The Chi-square goodness of fit test checks if an observed distribution matches an expected distribution.\n",
        "\n",
        "\n",
        "Q19=> What is the F-distribution, and when is it used in hypothesis testing?\n",
        "\n",
        "ans=>The F-distribution is used to compare variances in tests like ANOVA and F-tes\n",
        "\n",
        "\n",
        "Q20=> What is an ANOVA test, and what are its assumptions?\n",
        "\n",
        "ans=>ANOVA (Analysis of Variance) compares the means of three or more groups to determine if at least one differs significantly.\n",
        "\n",
        "\n",
        "Q21=> What are the different types of ANOVA tests?\n",
        "\n",
        "ans=>Types of ANOVA include one-way, two-way, and repeated measures ANOVA\n",
        "\n",
        "\n",
        "Q22=> What is the F-test, and how does it relate to hypothesis testing?\n",
        "\n",
        "ans=>An F-test compares variances or multiple means to determine statistical significance in hypothesis testing."
      ],
      "metadata": {
        "id": "31-MkbVUh_Xf"
      }
    },
    {
      "cell_type": "code",
      "execution_count": 1,
      "metadata": {
        "colab": {
          "base_uri": "https://localhost:8080/"
        },
        "id": "1QeN4afah3MH",
        "outputId": "6acad93f-7373-43a3-adfa-e4103f7b1ee9"
      },
      "outputs": [
        {
          "output_type": "stream",
          "name": "stdout",
          "text": [
            "Z-statistic: 3.6514837167011076\n",
            "P-value: 0.0001303648164276581\n",
            "Decision: Reject the null hypothesis\n"
          ]
        }
      ],
      "source": [
        "# Q1=> Write a Python program to perform a Z-test for comparing a sample mean to a known population mean and interpret the results?\n",
        "\n",
        "import numpy as np\n",
        "from scipy import stats\n",
        "\n",
        "def z_test(sample_mean, pop_mean, pop_std, sample_size, alpha=0.05):\n",
        "\n",
        "    z_statistic = (sample_mean - pop_mean) / (pop_std / np.sqrt(sample_size))\n",
        "    p_value = stats.norm.sf(abs(z_statistic))\n",
        "\n",
        "    if p_value < alpha:\n",
        "        decision = \"Reject the null hypothesis\"\n",
        "    else:\n",
        "        decision = \"Fail to reject the null hypothesis\"\n",
        "\n",
        "    return z_statistic, p_value, decision\n",
        "\n",
        "\n",
        "sample_mean = 110\n",
        "pop_mean = 100\n",
        "pop_std = 15\n",
        "sample_size = 30\n",
        "alpha = 0.05\n",
        "\n",
        "z_statistic, p_value, decision = z_test(sample_mean, pop_mean, pop_std, sample_size, alpha)\n",
        "\n",
        "print(\"Z-statistic:\", z_statistic)\n",
        "print(\"P-value:\", p_value)\n",
        "print(\"Decision:\", decision)\n"
      ]
    },
    {
      "cell_type": "code",
      "source": [
        "# Q2=> Simulate random data to perform hypothesis testing and calculate the corresponding P-value using Python?\n",
        "\n",
        "import numpy as np\n",
        "from scipy import stats\n",
        "\n",
        "np.random.seed(42)\n",
        "sample_size = 100\n",
        "sample_data = np.random.normal(loc=10, scale=2, size=sample_size)\n",
        "\n",
        "\n",
        "t_statistic, p_value = stats.ttest_1samp(sample_data, popmean=10)\n",
        "\n",
        "print(\"T-statistic:\", t_statistic)\n",
        "print(\"P-value:\", p_value)\n",
        "\n",
        "alpha = 0.05\n",
        "if p_value < alpha:\n",
        "    print(\"Reject the null hypothesis\")\n",
        "else:\n",
        "    print(\"Fail to reject the null hypothesis\")"
      ],
      "metadata": {
        "colab": {
          "base_uri": "https://localhost:8080/"
        },
        "id": "y22cEwdhl5wM",
        "outputId": "64b50651-b45b-49f1-f088-531851c341cc"
      },
      "execution_count": 2,
      "outputs": [
        {
          "output_type": "stream",
          "name": "stdout",
          "text": [
            "T-statistic: -1.1434720057588446\n",
            "P-value: 0.2556001762530366\n",
            "Fail to reject the null hypothesis\n"
          ]
        }
      ]
    },
    {
      "cell_type": "code",
      "source": [
        "# Q3=> Implement a one-sample Z-test using Python to compare the sample mean with the population mean?\n",
        "\n",
        "import numpy as np\n",
        "from scipy import stats\n",
        "\n",
        "def one_sample_z_test(sample_mean, pop_mean, pop_std, sample_size, alpha=0.05):\n",
        "\n",
        "    z_statistic = (sample_mean - pop_mean) / (pop_std / np.sqrt(sample_size))\n",
        "    p_value = stats.norm.sf(abs(z_statistic))*2\n",
        "\n",
        "    if p_value < alpha:\n",
        "        decision = \"Reject the null hypothesis\"\n",
        "    else:\n",
        "        decision = \"Fail to reject the null hypothesis\"\n",
        "\n",
        "    return z_statistic, p_value, decision\n",
        "\n",
        "sample_mean = 110\n",
        "pop_mean = 100\n",
        "pop_std = 15\n",
        "sample_size = 30\n",
        "alpha = 0.05\n",
        "\n",
        "z_statistic, p_value, decision = one_sample_z_test(sample_mean, pop_mean, pop_std, sample_size, alpha)\n",
        "\n",
        "print(\"Z-statistic:\", z_statistic)\n",
        "print(\"P-value:\", p_value)\n",
        "print(\"Decision:\", decision)\n",
        "\n",
        ""
      ],
      "metadata": {
        "colab": {
          "base_uri": "https://localhost:8080/"
        },
        "id": "V9AQF6_9mmHr",
        "outputId": "83a56cac-0847-4d19-a491-a2b2b755df78"
      },
      "execution_count": 3,
      "outputs": [
        {
          "output_type": "stream",
          "name": "stdout",
          "text": [
            "Z-statistic: 3.6514837167011076\n",
            "P-value: 0.0002607296328553162\n",
            "Decision: Reject the null hypothesis\n"
          ]
        }
      ]
    },
    {
      "cell_type": "code",
      "source": [
        "# Q4=> Perform a two-tailed Z-test using Python and visualize the decision region on a plot?\n",
        "\n",
        "import numpy as np\n",
        "import matplotlib.pyplot as plt\n",
        "from scipy import stats\n",
        "\n",
        "def two_tailed_z_test(sample_mean, pop_mean, pop_std, sample_size, alpha=0.05):\n",
        "\n",
        "    z_statistic = (sample_mean - pop_mean) / (pop_std / np.sqrt(sample_size))\n",
        "\n",
        "\n",
        "    p_value = 2 * stats.norm.sf(abs(z_statistic))\n",
        "\n",
        "\n",
        "    critical_value_left = stats.norm.ppf(alpha / 2)\n",
        "    critical_value_right = stats.norm.ppf(1 - alpha / 2)\n",
        "\n",
        "\n",
        "    if p_value < alpha:\n",
        "        decision = \"Reject the null hypothesis\"\n",
        "    else:\n",
        "        decision = \"Fail to reject the null hypothesis\"\n",
        "\n",
        "\n",
        "    x = np.linspace(-4, 4, 100)\n",
        "    plt.plot(x, stats.norm.pdf(x, 0, 1), label='Standard Normal Distribution')\n",
        "    plt.axvline(critical_value_left, color='red', linestyle='--', label='Critical Value (Left)')\n",
        "    plt.axvline(critical_value_right, color='red', linestyle='--', label='Critical Value (Right)')\n",
        "    plt.fill_between(x, stats.norm.pdf(x, 0, 1), where=(x < critical_value_left), color='red', alpha=0.3)\n",
        "    plt.fill_between(x, stats.norm.pdf(x, 0, 1), where=(x > critical_value_right), color='red', alpha=0.3)\n",
        "    plt.scatter(z_statistic, 0, color='blue', label='Z-statistic')\n",
        "    plt.title('Two-tailed Z-test')\n",
        "    plt.xlabel('Z-score')\n",
        "    plt.ylabel('Probability Density')\n",
        "    plt.legend()\n",
        "    plt.show()\n",
        "\n",
        "    return z_statistic, p_value, decision\n",
        "\n",
        "sample_mean = 110\n",
        "pop_mean = 100\n",
        "pop_std = 15\n",
        "sample_size = 30\n",
        "alpha = 0.05\n",
        "\n",
        "z_statistic, p_value, decision = two_tailed_z_test(sample_mean, pop_mean, pop_std, sample_size, alpha)\n",
        "\n",
        "print(\"Z-statistic:\", z_statistic)\n",
        "print(\"P-value:\", p_value)\n",
        "print(\"Decision:\", decision)"
      ],
      "metadata": {
        "colab": {
          "base_uri": "https://localhost:8080/",
          "height": 524
        },
        "id": "bia0Dc1GnOqx",
        "outputId": "34ad9f33-3d0d-4d3f-902e-3016f464ece2"
      },
      "execution_count": 26,
      "outputs": [
        {
          "output_type": "display_data",
          "data": {
            "text/plain": [
              "<Figure size 640x480 with 1 Axes>"
            ],
            "image/png": "[encoded data removed]"
          },
          "metadata": {}
        },
        {
          "output_type": "stream",
          "name": "stdout",
          "text": [
            "Z-statistic: 3.6514837167011076\n",
            "P-value: 0.0002607296328553162\n",
            "Decision: Reject the null hypothesis\n"
          ]
        }
      ]
    },
    {
      "cell_type": "code",
      "source": [
        "# Q5=> Create a Python function that calculates and visualizes Type 1 and Type 2 errors during hypothesis testing?\n",
        "\n",
        "\n",
        "import numpy as np\n",
        "import matplotlib.pyplot as plt\n",
        "from scipy import stats\n",
        "\n",
        "def visualize_errors(mu1, mu2, sigma, n, alpha=0.05):\n",
        "\n",
        "\n",
        "    critical_value = stats.norm.ppf(1 - alpha) * sigma / np.sqrt(n) + mu1\n",
        "\n",
        "\n",
        "    type1_error = stats.norm.sf(critical_value, loc=mu1, scale=sigma / np.sqrt(n))\n",
        "\n",
        "\n",
        "    type2_error = stats.norm.cdf(critical_value, loc=mu2, scale=sigma / np.sqrt(n))\n",
        "\n",
        "\n",
        "    x = np.linspace(mu1 - 4 * sigma / np.sqrt(n), mu2 + 4 * sigma / np.sqrt(n), 1000)\n",
        "    plt.plot(x, stats.norm.pdf(x, loc=mu1, scale=sigma / np.sqrt(n)), label='Null Hypothesis')\n",
        "    plt.plot(x, stats.norm.pdf(x, loc=mu2, scale=sigma / np.sqrt(n)), label='Alternative Hypothesis')\n",
        "    plt.axvline(critical_value, color='red', linestyle='--', label='Critical Value')\n",
        "\n",
        "    plt.fill_between(x, stats.norm.pdf(x, loc=mu1, scale=sigma / np.sqrt(n)),\n",
        "                     where=(x >= critical_value), color='red', alpha=0.3, label='Type I Error')\n",
        "    plt.fill_between(x, stats.norm.pdf(x, loc=mu2, scale=sigma / np.sqrt(n)),\n",
        "                     where=(x <= critical_value), color='blue', alpha=0.3, label='Type II Error')\n",
        "\n",
        "    plt.title('Type I and Type II Errors')\n",
        "    plt.xlabel('Sample Mean')\n",
        "    plt.ylabel('Probability Density')\n",
        "    plt.legend()\n",
        "    plt.show()\n",
        "\n",
        "    print(\"Type I Error (alpha):\", type1_error)\n",
        "    print(\"Type II Error (beta):\", type2_error)\n",
        "\n",
        "\n",
        "visualize_errors(mu1=10, mu2=12, sigma=2, n=30, alpha=0.05)"
      ],
      "metadata": {
        "colab": {
          "base_uri": "https://localhost:8080/",
          "height": 507
        },
        "id": "oD6MvZsUvi6i",
        "outputId": "0d86066b-9acd-4335-977d-ef427e4d44d2"
      },
      "execution_count": 25,
      "outputs": [
        {
          "output_type": "display_data",
          "data": {
            "text/plain": [
              "<Figure size 640x480 with 1 Axes>"
            ],
            "image/png": "[encoded data removed]"
          },
          "metadata": {}
        },
        {
          "output_type": "stream",
          "name": "stdout",
          "text": [
            "Type I Error (alpha): 0.04999999999999987\n",
            "Type II Error (beta): 6.345683143388653e-05\n"
          ]
        }
      ]
    },
    {
      "cell_type": "code",
      "source": [
        "# Q6=> Write a Python program to perform an independent T-test and interpret the results?\n",
        "\n",
        "\n",
        "import numpy as np\n",
        "from scipy import stats\n",
        "\n",
        "\n",
        "np.random.seed(42)\n",
        "group1 = np.random.normal(loc=10, scale=2, size=30)\n",
        "group2 = np.random.normal(loc=12, scale=2, size=35)\n",
        "\n",
        "\n",
        "t_statistic, p_value = stats.ttest_ind(group1, group2)\n",
        "\n",
        "print(\"T-statistic:\", t_statistic)\n",
        "print(\"P-value:\", p_value)\n",
        "\n",
        "alpha = 0.05\n",
        "\n",
        "if p_value < alpha:\n",
        "    print(\"Reject the null hypothesis: There is a significant difference between the means of the two groups.\")\n",
        "else:\n",
        "    print(\"Fail to reject the null hypothesis: There is no significant evidence of a difference between the means of the two groups.\")"
      ],
      "metadata": {
        "colab": {
          "base_uri": "https://localhost:8080/"
        },
        "id": "chQ1PcP2vJzK",
        "outputId": "ecee352d-4381-45ed-ac68-b7f3baffc6e2"
      },
      "execution_count": 24,
      "outputs": [
        {
          "output_type": "stream",
          "name": "stdout",
          "text": [
            "T-statistic: -4.537833910475867\n",
            "P-value: 2.6140618759430602e-05\n",
            "Reject the null hypothesis: There is a significant difference between the means of the two groups.\n"
          ]
        }
      ]
    },
    {
      "cell_type": "code",
      "source": [
        "# Q7=> Perform a paired sample T-test using Python and visualize the comparison results?\n",
        "import numpy as np\n",
        "import pandas as pd\n",
        "from scipy import stats\n",
        "import matplotlib.pyplot as plt\n",
        "import seaborn as sns\n",
        "\n",
        "\n",
        "np.random.seed(42)\n",
        "before = np.random.normal(loc=10, scale=2, size=30)\n",
        "after = before + np.random.normal(loc=1, scale=1, size=30)\n",
        "\n",
        "\n",
        "data = pd.DataFrame({'Before': before, 'After': after})\n",
        "\n",
        "\n",
        "t_statistic, p_value = stats.ttest_rel(data['Before'], data['After'])\n",
        "\n",
        "\n",
        "print(\"T-statistic:\", t_statistic)\n",
        "print(\"P-value:\", p_value)\n",
        "\n",
        "\n",
        "plt.figure(figsize=(8, 6))\n",
        "sns.boxplot(data=data[['Before', 'After']])\n",
        "plt.title('Paired Sample T-test Results')\n",
        "plt.ylabel('Values')\n",
        "plt.show()\n",
        "\n",
        "\n",
        "plt.figure(figsize=(8, 6))\n",
        "for i in range(len(data)):\n",
        "    plt.plot([1, 2], [data['Before'][i], data['After'][i]], 'o-', color='gray', alpha=0.5)\n",
        "plt.plot([1, 2], [data['Before'].mean(), data['After'].mean()], 'o-', color='red', lw=2)\n",
        "plt.xticks([1, 2], ['Before', 'After'])\n",
        "plt.title('Paired Sample Comparison')\n",
        "plt.ylabel('Values')\n",
        "plt.show()"
      ],
      "metadata": {
        "id": "HsrlA9KRu23Q"
      },
      "execution_count": null,
      "outputs": []
    },
    {
      "cell_type": "code",
      "source": [
        "# Q8=> Simulate data and perform both Z-test and T-test, then compare the results using Python?\n",
        "import numpy as np\n",
        "from scipy import stats\n",
        "\n",
        "np.random.seed(42)\n",
        "sample_size = 30\n",
        "population_mean = 50\n",
        "population_std = 10\n",
        "sample_data = np.random.normal(loc=population_mean, scale=population_std, size=sample_size)\n",
        "\n",
        "\n",
        "z_statistic = (np.mean(sample_data) - population_mean) / (population_std / np.sqrt(sample_size))\n",
        "p_value_z = stats.norm.sf(abs(z_statistic)) * 2\n",
        "\n",
        "\n",
        "t_statistic, p_value_t = stats.ttest_1samp(sample_data, popmean=population_mean)\n",
        "\n",
        "\n",
        "print(\"Z-test:\")\n",
        "print(\"Z-statistic:\", z_statistic)\n",
        "print(\"P-value:\", p_value_z)\n",
        "\n",
        "print(\"\\nT-test:\")\n",
        "print(\"T-statistic:\", t_statistic)\n",
        "print(\"P-value:\", p_value_t)\n",
        "\n",
        "print(\"\\nComparison:\")\n",
        "print(\"Difference in P-values:\", abs(p_value_z - p_value_t))\n",
        "\n",
        "\n",
        "alpha = 0.05\n",
        "if p_value_z < alpha and p_value_t < alpha:\n",
        "    print(\"Both tests reject the null hypothesis.\")\n",
        "elif p_value_z >= alpha and p_value_t >= alpha:\n",
        "    print(\"Both tests fail to reject the null hypothesis.\")\n",
        "else:\n",
        "    print(\"The tests have different conclusions.\")"
      ],
      "metadata": {
        "colab": {
          "base_uri": "https://localhost:8080/"
        },
        "id": "yUDXZVDaulm3",
        "outputId": "7117a0b6-9886-4946-a3e0-3dd95b5395e5"
      },
      "execution_count": 23,
      "outputs": [
        {
          "output_type": "stream",
          "name": "stdout",
          "text": [
            "Z-test:\n",
            "Z-statistic: -1.0305229898218837\n",
            "P-value: 0.3027645658813325\n",
            "\n",
            "T-test:\n",
            "T-statistic: -1.145017367038331\n",
            "P-value: 0.2615641461880146\n",
            "\n",
            "Comparison:\n",
            "Difference in P-values: 0.04120041969331789\n",
            "Both tests fail to reject the null hypothesis.\n"
          ]
        }
      ]
    },
    {
      "cell_type": "code",
      "source": [
        "# Q9=> Write a Python function to calculate the confidence interval for a sample mean and explain its significance?\n",
        "\n",
        "\n",
        "import numpy as np\n",
        "from scipy import stats\n",
        "\n",
        "def calculate_confidence_interval(data, confidence_level=0.95):\n",
        "\n",
        "\n",
        "    n = len(data)\n",
        "    sample_mean = np.mean(data)\n",
        "    sample_std = np.std(data, ddof=1)\n",
        "\n",
        "\n",
        "    critical_value = stats.norm.ppf((1 + confidence_level) / 2)\n",
        "\n",
        "\n",
        "    margin_of_error = critical_value * (sample_std / np.sqrt(n))\n",
        "\n",
        "\n",
        "    lower_bound = sample_mean - margin_of_error\n",
        "    upper_bound = sample_mean + margin_of_error\n",
        "\n",
        "    return lower_bound, upper_bound\n",
        "\n",
        "\n",
        "data = [10, 12, 14, 16, 18, 20]\n",
        "confidence_level = 0.95\n",
        "\n",
        "lower_bound, upper_bound = calculate_confidence_interval(data, confidence_level)\n",
        "\n",
        "print(\"Confidence Interval:\", (lower_bound, upper_bound))\n"
      ],
      "metadata": {
        "colab": {
          "base_uri": "https://localhost:8080/"
        },
        "id": "zPikkcJFuSUK",
        "outputId": "06157a1a-4fd4-47de-a53c-eddd5ebf0a71"
      },
      "execution_count": 22,
      "outputs": [
        {
          "output_type": "stream",
          "name": "stdout",
          "text": [
            "Confidence Interval: (12.006105560485981, 17.99389443951402)\n"
          ]
        }
      ]
    },
    {
      "cell_type": "code",
      "source": [
        "# Q10=> Write a Python program to calculate the margin of error for a given confidence level using sample data?\n",
        "import numpy as np\n",
        "from scipy import stats\n",
        "\n",
        "def calculate_margin_of_error(data, confidence_level=0.95):\n",
        "\n",
        "\n",
        "    n = len(data)\n",
        "    sample_mean = np.mean(data)\n",
        "    sample_std = np.std(data, ddof=1)\n",
        "\n",
        "\n",
        "    critical_value = stats.norm.ppf((1 + confidence_level) / 2)\n",
        "\n",
        "\n",
        "    margin_of_error = critical_value * (sample_std / np.sqrt(n))\n",
        "\n",
        "    return margin_of_error\n",
        "\n",
        "\n",
        "data = [10, 12, 14, 16, 18, 20]\n",
        "confidence_level = 0.95\n",
        "\n",
        "margin_of_error = calculate_margin_of_error(data, confidence_level)\n",
        "\n",
        "print(\"Margin of Error:\", margin_of_error)"
      ],
      "metadata": {
        "colab": {
          "base_uri": "https://localhost:8080/"
        },
        "id": "AjBGk2VmuBeY",
        "outputId": "2d0fb22f-41d7-4180-a62d-7f1f70069413"
      },
      "execution_count": 21,
      "outputs": [
        {
          "output_type": "stream",
          "name": "stdout",
          "text": [
            "Margin of Error: 2.9938944395140186\n"
          ]
        }
      ]
    },
    {
      "cell_type": "code",
      "source": [
        "# Q11=> Implement a Bayesian inference method using Bayes's Theorem in Python and explain the process?\n",
        "\n",
        "import numpy as np\n",
        "\n",
        "def bayesian_inference(prior, likelihood, data):\n",
        "\n",
        "\n",
        "\n",
        "    numerator = prior * likelihood(data)\n",
        "\n",
        "\n",
        "    denominator = np.sum(numerator)\n",
        "\n",
        "\n",
        "    posterior = numerator / denominator\n",
        "\n",
        "    return posterior\n",
        "\n",
        "\n",
        "prior = np.array([0.3, 0.7])\n",
        "\n",
        "\n",
        "def likelihood(data):\n",
        "\n",
        "    if data == 'heads':\n",
        "        return np.array([0.8, 0.4])\n",
        "    else:\n",
        "        return np.array([0.2, 0.6])\n",
        "\n",
        "\n",
        "data = 'heads'\n",
        "\n",
        "\n",
        "posterior = bayesian_inference(prior, likelihood, data)\n",
        "\n",
        "\n",
        "print(\"Prior:\", prior)\n",
        "print(\"Posterior:\", posterior)"
      ],
      "metadata": {
        "colab": {
          "base_uri": "https://localhost:8080/"
        },
        "id": "Ln7apLdktrn1",
        "outputId": "56415a2f-8b7a-449d-8dc2-004e027252eb"
      },
      "execution_count": 20,
      "outputs": [
        {
          "output_type": "stream",
          "name": "stdout",
          "text": [
            "Prior: [0.3 0.7]\n",
            "Posterior: [0.46153846 0.53846154]\n"
          ]
        }
      ]
    },
    {
      "cell_type": "code",
      "source": [
        "# Q12=> Perform a Chi-square test for independence between two categorical variables in Python?\n",
        "\n",
        "import pandas as pd\n",
        "import scipy.stats as stats\n",
        "\n",
        "\n",
        "data = {'Gender': ['Male', 'Male', 'Female', 'Female', 'Male', 'Female', 'Male', 'Female'],\n",
        "        'Education': ['High School', 'College', 'High School', 'College', 'College', 'High School', 'High School', 'College']}\n",
        "df = pd.DataFrame(data)\n",
        "\n",
        "contingency_table = pd.crosstab(df['Gender'], df['Education'])\n",
        "\n",
        "\n",
        "chi2_statistic, p_value, dof, expected_frequencies = stats.chi2_contingency(contingency_table)\n",
        "\n",
        "\n",
        "print(\"Contingency Table:\")\n",
        "print(contingency_table)\n",
        "print(\"\\nChi-square Statistic:\", chi2_statistic)\n",
        "print(\"P-value:\", p_value)\n",
        "print(\"Degrees of Freedom:\", dof)\n",
        "print(\"\\nExpected Frequencies:\")\n",
        "print(expected_frequencies)\n",
        "\n",
        "\n",
        "alpha = 0.05\n",
        "if p_value < alpha:\n",
        "    print(\"\\nReject the null hypothesis: There is a significant association between Gender and Education.\")\n",
        "else:\n",
        "    print(\"\\nFail to reject the null hypothesis: There is no significant association between Gender and Education.\")"
      ],
      "metadata": {
        "colab": {
          "base_uri": "https://localhost:8080/"
        },
        "id": "Mm06q1k8tcJ5",
        "outputId": "07e8d159-1131-4513-ff33-fa14ef829bdc"
      },
      "execution_count": 19,
      "outputs": [
        {
          "output_type": "stream",
          "name": "stdout",
          "text": [
            "Contingency Table:\n",
            "Education  College  High School\n",
            "Gender                         \n",
            "Female           2            2\n",
            "Male             2            2\n",
            "\n",
            "Chi-square Statistic: 0.0\n",
            "P-value: 1.0\n",
            "Degrees of Freedom: 1\n",
            "\n",
            "Expected Frequencies:\n",
            "[[2. 2.]\n",
            " [2. 2.]]\n",
            "\n",
            "Fail to reject the null hypothesis: There is no significant association between Gender and Education.\n"
          ]
        }
      ]
    },
    {
      "cell_type": "code",
      "source": [
        "# Q13=> Write a Python program to calculate the expected frequencies for a Chi-square test based on observed data?\n",
        "\n",
        "import numpy as np\n",
        "\n",
        "def calculate_expected_frequencies(observed_frequencies):\n",
        "\n",
        "\n",
        "    total_observations = np.sum(observed_frequencies)\n",
        "    num_categories = len(observed_frequencies)\n",
        "    expected_frequencies = np.array([total_observations / num_categories] * num_categories)\n",
        "\n",
        "    return expected_frequencies\n",
        "\n",
        "\n",
        "observed_frequencies = np.array([30, 25, 15, 20, 10])\n",
        "expected_frequencies = calculate_expected_frequencies(observed_frequencies)\n",
        "\n",
        "print(\"Observed Frequencies:\", observed_frequencies)\n",
        "print(\"Expected Frequencies:\", expected_frequencies)"
      ],
      "metadata": {
        "colab": {
          "base_uri": "https://localhost:8080/"
        },
        "id": "THc9G7SmtPS7",
        "outputId": "28ac888e-24b9-4b16-c4eb-2204e6fd11a9"
      },
      "execution_count": 18,
      "outputs": [
        {
          "output_type": "stream",
          "name": "stdout",
          "text": [
            "Observed Frequencies: [30 25 15 20 10]\n",
            "Expected Frequencies: [20. 20. 20. 20. 20.]\n"
          ]
        }
      ]
    },
    {
      "cell_type": "code",
      "source": [
        "# Q14=> Perform a goodness-of-fit test using Python to compare the observed data to an expected distribution?\n",
        "\n",
        "import numpy as np\n",
        "from scipy.stats import chisquare\n",
        "\n",
        "\n",
        "observed_frequencies = np.array([30, 25, 15, 20, 10])\n",
        "\n",
        "\n",
        "expected_proportions = np.array([0.25, 0.20, 0.15, 0.25, 0.15])\n",
        "total_observations = np.sum(observed_frequencies)\n",
        "expected_frequencies = expected_proportions * total_observations\n",
        "\n",
        "\n",
        "chi2_statistic, p_value = chisquare(f_obs=observed_frequencies, f_exp=expected_frequencies)\n",
        "\n",
        "\n",
        "print(\"Observed Frequencies:\", observed_frequencies)\n",
        "print(\"Expected Frequencies:\", expected_frequencies)\n",
        "print(\"Chi-square Statistic:\", chi2_statistic)\n",
        "print(\"P-value:\", p_value)\n",
        "\n",
        "\n",
        "alpha = 0.05\n",
        "if p_value < alpha:\n",
        "    print(\"Reject the null hypothesis: The observed distribution is significantly different from the expected distribution.\")\n",
        "else:\n",
        "    print(\"Fail to reject the null hypothesis: There is no significant difference between the observed and expected distributions.\")"
      ],
      "metadata": {
        "colab": {
          "base_uri": "https://localhost:8080/"
        },
        "id": "kuQLq6RrsyxG",
        "outputId": "69edcb68-0822-4aef-a379-9bf14c1283fc"
      },
      "execution_count": 17,
      "outputs": [
        {
          "output_type": "stream",
          "name": "stdout",
          "text": [
            "Observed Frequencies: [30 25 15 20 10]\n",
            "Expected Frequencies: [25. 20. 15. 25. 15.]\n",
            "Chi-square Statistic: 4.916666666666667\n",
            "P-value: 0.29595538691930157\n",
            "Fail to reject the null hypothesis: There is no significant difference between the observed and expected distributions.\n"
          ]
        }
      ]
    },
    {
      "cell_type": "code",
      "source": [
        "# Q15=> Create a Python script to simulate and visualize the Chi-square distribution and discuss its characteristics?\n",
        "\n",
        "\n",
        "import numpy as np\n",
        "import matplotlib.pyplot as plt\n",
        "from scipy.stats import chi2\n",
        "\n",
        "\n",
        "df = 10\n",
        "\n",
        "\n",
        "data = chi2.rvs(df, size=10000)\n",
        "\n",
        "\n",
        "plt.hist(data, bins=50, density=True, alpha=0.6, color='b', label=f'Chi-square (df={df})')\n",
        "\n",
        "\n",
        "x = np.linspace(0, 30, 100)\n",
        "pdf = chi2.pdf(x, df)\n",
        "plt.plot(x, pdf, 'r-', lw=2, label='Theoretical PDF')\n",
        "\n",
        "\n",
        "plt.title('Chi-square Distribution')\n",
        "plt.xlabel('X')\n",
        "plt.ylabel('Probability Density')\n",
        "plt.legend()\n",
        "plt.show()\n",
        "\n",
        "# Discussion of characteristics:\n",
        "# - Shape: The Chi-square distribution is skewed to the right (positively skewed).\n",
        "# - Support: It is defined for non-negative values only (x >= 0).\n",
        "# - Degrees of freedom (df): The shape of the distribution depends on the degrees of freedom.\n",
        "#   Higher df values make the distribution less skewed and more bell-shaped.\n",
        "# - Mean and variance: The mean of a Chi-square distribution is equal to its df, and\n",
        "#   the variance is equal to 2 times its df.\n",
        "# - Applications: The Chi-square distribution is used in various statistical tests,\n",
        "#   including goodness-of-fit tests, tests for independence, and tests for homogeneity."
      ],
      "metadata": {
        "id": "1U_Nb9Z5se_8"
      },
      "execution_count": null,
      "outputs": []
    },
    {
      "cell_type": "code",
      "source": [
        "# Q16=> Implement an F-test using Python to compare the variances of two random samples?\n",
        "\n",
        "import numpy as np\n",
        "from scipy.stats import f\n",
        "\n",
        "def f_test_variances(data1, data2, alpha=0.05):\n",
        "\n",
        "    variance1 = np.var(data1, ddof=1)\n",
        "    variance2 = np.var(data2, ddof=1)\n",
        "\n",
        "\n",
        "    f_statistic = variance1 / variance2\n",
        "\n",
        "\n",
        "    df1 = len(data1) - 1\n",
        "    df2 = len(data2) - 1\n",
        "\n",
        "\n",
        "    p_value = f.sf(f_statistic, df1, df2)\n",
        "\n",
        "\n",
        "    if p_value < alpha:\n",
        "        decision = \"Reject the null hypothesis: The variances are significantly different.\"\n",
        "    else:\n",
        "        decision = \"Fail to reject the null hypothesis: There is no significant difference between the variances.\"\n",
        "\n",
        "    return f_statistic, p_value, decision\n",
        "\n",
        "\n",
        "data1 = [12, 15, 18, 20, 22, 25, 17, 19, 23, 21]\n",
        "data2 = [10, 13, 16, 18, 20, 23, 15, 17, 21, 19]\n",
        "\n",
        "f_statistic, p_value, decision = f_test_variances(data1, data2)\n",
        "\n",
        "print(\"F-statistic:\", f_statistic)\n",
        "print(\"P-value:\", p_value)\n",
        "print(\"Decision:\", decision)"
      ],
      "metadata": {
        "colab": {
          "base_uri": "https://localhost:8080/"
        },
        "id": "SF0AzzixsLX2",
        "outputId": "5cd66a04-a45d-40e0-dc61-0eb50b1bd735"
      },
      "execution_count": 16,
      "outputs": [
        {
          "output_type": "stream",
          "name": "stdout",
          "text": [
            "F-statistic: 1.0\n",
            "P-value: 0.4999999999999999\n",
            "Decision: Fail to reject the null hypothesis: There is no significant difference between the variances.\n"
          ]
        }
      ]
    },
    {
      "cell_type": "code",
      "source": [
        "# Q17=> Write a Python program to perform an ANOVA test to compare means between multiple groups and interpret the results?\n",
        "\n",
        "import numpy as np\n",
        "import pandas as pd\n",
        "import scipy.stats as stats\n",
        "\n",
        "\n",
        "np.random.seed(42)\n",
        "group1 = np.random.normal(loc=10, scale=2, size=30)\n",
        "group2 = np.random.normal(loc=12, scale=2, size=30)\n",
        "group3 = np.random.normal(loc=15, scale=2, size=30)\n",
        "\n",
        "\n",
        "data = pd.DataFrame({'Group': ['Group 1'] * 30 + ['Group 2'] * 30 + ['Group 3'] * 30,\n",
        "                     'Value': np.concatenate([group1, group2, group3])})\n",
        "\n",
        "\n",
        "fvalue, pvalue = stats.f_oneway(group1, group2, group3)\n",
        "\n",
        "\n",
        "print(\"F-statistic:\", fvalue)\n",
        "print(\"P-value:\", pvalue)\n",
        "\n",
        "alpha = 0.05\n",
        "\n",
        "if pvalue < alpha:\n",
        "    print(\"Reject the null hypothesis: There are significant differences between the means of the groups.\")\n",
        "else:\n",
        "    print(\"Fail to reject the null hypothesis: There is no significant evidence of differences between the means of the groups.\")"
      ],
      "metadata": {
        "colab": {
          "base_uri": "https://localhost:8080/"
        },
        "id": "QO9HyEE0r5hu",
        "outputId": "6305294c-cc0c-4e72-8d25-83e87101530e"
      },
      "execution_count": 15,
      "outputs": [
        {
          "output_type": "stream",
          "name": "stdout",
          "text": [
            "F-statistic: 62.593948680975046\n",
            "P-value: 1.4346335605028342e-17\n",
            "Reject the null hypothesis: There are significant differences between the means of the groups.\n"
          ]
        }
      ]
    },
    {
      "cell_type": "code",
      "source": [
        "# Q18=> Perform a one-way ANOVA test using Python to compare the means of different groups and plot the results?\n",
        "\n",
        "import numpy as np\n",
        "import pandas as pd\n",
        "import scipy.stats as stats\n",
        "import matplotlib.pyplot as plt\n",
        "import seaborn as sns\n",
        "\n",
        "\n",
        "np.random.seed(42)\n",
        "group1 = np.random.normal(loc=10, scale=2, size=30)\n",
        "group2 = np.random.normal(loc=12, scale=2, size=30)\n",
        "group3 = np.random.normal(loc=15, scale=2, size=30)\n",
        "\n",
        "\n",
        "data = pd.DataFrame({'Group': ['Group 1'] * 30 + ['Group 2'] * 30 + ['Group 3'] * 30,\n",
        "                     'Value': np.concatenate([group1, group2, group3])})\n",
        "\n",
        "\n",
        "fvalue, pvalue = stats.f_oneway(group1, group2, group3)\n",
        "\n",
        "\n",
        "print(\"F-statistic:\", fvalue)\n",
        "print(\"P-value:\", pvalue)\n",
        "\n",
        "\n",
        "plt.figure(figsize=(8, 6))\n",
        "sns.boxplot(x='Group', y='Value', data=data)\n",
        "plt.title('One-way ANOVA Results')\n",
        "plt.xlabel('Groups')\n",
        "plt.ylabel('Values')\n",
        "plt.show()"
      ],
      "metadata": {
        "colab": {
          "base_uri": "https://localhost:8080/",
          "height": 599
        },
        "id": "iNcWQvm0rqa8",
        "outputId": "45ced82f-d193-42f1-b7f4-e667ade0ce4b"
      },
      "execution_count": 14,
      "outputs": [
        {
          "output_type": "stream",
          "name": "stdout",
          "text": [
            "F-statistic: 62.593948680975046\n",
            "P-value: 1.4346335605028342e-17\n"
          ]
        },
        {
          "output_type": "display_data",
          "data": {
            "text/plain": [
              "<Figure size 800x600 with 1 Axes>"
            ],
            "image/png": "[encoded data removed]"
          },
          "metadata": {}
        }
      ]
    },
    {
      "cell_type": "code",
      "source": [
        "# Q19=> Write a Python function to check the assumptions (normality, independence, and equal variance) for ANOVA?\n",
        "\n",
        "import numpy as np\n",
        "import pandas as pd\n",
        "import scipy.stats as stats\n",
        "import statsmodels.stats.api as sms\n",
        "\n",
        "def check_anova_assumptions(data, group_col, dependent_col):\n",
        "\n",
        "    groups = data[group_col].unique()\n",
        "    for group in groups:\n",
        "        group_data = data[data[group_col] == group][dependent_col]\n",
        "        _, pvalue = stats.shapiro(group_data)\n",
        "        print(f\"Shapiro-Wilk test for normality (Group {group}): p-value = {pvalue}\")\n",
        "        if pvalue < 0.05:\n",
        "            print(f\"Warning: Normality assumption may be violated for Group {group}.\")\n",
        "\n",
        "    print(\"Independence assumption: Check study design.\")\n",
        "\n",
        "\n",
        "    _, pvalue = stats.levene(*[data[data[group_col] == group][dependent_col] for group in groups])\n",
        "\n",
        "    print(f\"Levene's test for equal variance: p-value = {pvalue}\")\n",
        "    if pvalue < 0.05:\n",
        "        print(\"Warning: Equal variance assumption may be violated.\")\n",
        "\n",
        "\n",
        "    _, pvalue = stats.bartlett(*[data[data[group_col] == group][dependent_col] for group in groups])\n",
        "    print(f\"Bartlett's test for equal variance: p-value = {pvalue}\")\n",
        "    if pvalue < 0.05:\n",
        "        print(\"Warning: Equal variance assumption may be violated.\")"
      ],
      "metadata": {
        "id": "bOtLhU2frN--"
      },
      "execution_count": null,
      "outputs": []
    },
    {
      "cell_type": "code",
      "source": [
        "# Q20=> Perform a two-way ANOVA test using Python to study the interaction between two factors and visualize the results?\n",
        "\n",
        "\n",
        "import numpy as np\n",
        "import pandas as pd\n",
        "import statsmodels.formula.api as sm\n",
        "import matplotlib.pyplot as plt\n",
        "import seaborn as sns\n",
        "\n",
        "\n",
        "np.random.seed(42)\n",
        "n = 30\n",
        "factor1 = np.repeat(['A', 'B'], n * 2)\n",
        "factor2 = np.tile(np.repeat(['X', 'Y'], n), 2)\n",
        "data = pd.DataFrame({'Factor1': factor1, 'Factor2': factor2,\n",
        "                     'Value': np.random.normal(loc=10, scale=2, size=n * 4)})\n",
        "\n",
        "data.loc[(data['Factor1'] == 'B') & (data['Factor2'] == 'Y'), 'Value'] += 5\n",
        "\n",
        "\n",
        "model = sm.ols(formula='Value ~ C(Factor1) + C(Factor2) + C(Factor1):C(Factor2)', data=data).fit()\n",
        "anova_table = sm.stats.anova_lm(model, typ=2)\n",
        "\n",
        "print(anova_table)\n",
        "\n",
        "\n",
        "sns.boxplot(x='Factor1', y='Value', hue='Factor2', data=data)\n",
        "plt.title('Two-way ANOVA Results')\n",
        "plt.xlabel('Factor 1')\n",
        "plt.ylabel('Value')\n",
        "plt.show()"
      ],
      "metadata": {
        "id": "A2Q2OKXzqrBK"
      },
      "execution_count": null,
      "outputs": []
    },
    {
      "cell_type": "code",
      "source": [
        "# Q21=> Write a Python program to visualize the F-distribution and discuss its use in hypothesis testing?\n",
        "\n",
        "import numpy as np\n",
        "import matplotlib.pyplot as plt\n",
        "from scipy.stats import f\n",
        "\n",
        "\n",
        "df1 = 10\n",
        "df2 = 20\n",
        "\n",
        "\n",
        "x = np.linspace(0, 5, 100)\n",
        "\n",
        "\n",
        "pdf = f.pdf(x, df1, df2)\n",
        "\n",
        "\n",
        "plt.plot(x, pdf, label=f'F-distribution (df1={df1}, df2={df2})')\n",
        "plt.title('F-Distribution')\n",
        "plt.xlabel('F-statistic')\n",
        "plt.ylabel('Probability Density')\n",
        "plt.legend()\n",
        "plt.show()\n",
        "\n",
        "\n",
        "# Discussion:\n",
        "\n",
        "# Use in Hypothesis Testing:\n",
        "# The F-distribution is used in hypothesis testing for comparing variances or for\n",
        "# testing the equality of means in ANOVA (Analysis of Variance).\n",
        "\n",
        "# - Comparing Variances:\n",
        "#   - The F-test is used to compare the variances of two populations.\n",
        "#   - The null hypothesis is that the variances are equal.\n",
        "#   - The F-statistic is calculated as the ratio of the sample variances.\n",
        "#   - The P-value is calculated using the F-distribution.\n",
        "#   - If the P-value is less than the significance level, the null hypothesis\n",
        "#     is rejected, indicating that the variances are significantly different.\n",
        "\n",
        "# - ANOVA:\n",
        "#   - ANOVA is used to compare the means of three or more groups.\n",
        "#   - The null hypothesis is that the means of all groups are equal.\n",
        "#   - The F-statistic is calculated as the ratio of the between-group variance\n",
        "#     to the within-group variance.\n",
        "#   - The P-value is calculated using the F-distribution.\n",
        "#   - If the P-value is less than the significance level, the null hypothesis\n",
        "#     is rejected, indicating that there is a significant difference between\n",
        "#     the means of at least two groups.\n",
        "\n",
        "# Characteristics of the F-distribution:\n",
        "# - It is a continuous probability distribution.\n",
        "# - It is skewed to the right.\n",
        "# - It is defined for positive values only.\n",
        "# - Its shape depends on the degrees of freedom (df1 and df2)."
      ],
      "metadata": {
        "colab": {
          "base_uri": "https://localhost:8080/",
          "height": 472
        },
        "id": "RHVog2ZyqXrB",
        "outputId": "ea9f181f-b143-48d7-a6e7-0db59b4717e9"
      },
      "execution_count": 11,
      "outputs": [
        {
          "output_type": "display_data",
          "data": {
            "text/plain": [
              "<Figure size 640x480 with 1 Axes>"
            ],
            "image/png": "[encoded data removed]"
          },
          "metadata": {}
        }
      ]
    },
    {
      "cell_type": "code",
      "source": [
        "# Q22=> Perform a one-way ANOVA test in Python and visualize the results with boxplots to compare group means?\n",
        "\n",
        "\n",
        "import numpy as np\n",
        "import pandas as pd\n",
        "import scipy.stats as stats\n",
        "import matplotlib.pyplot as plt\n",
        "import seaborn as sns\n",
        "\n",
        "\n",
        "np.random.seed(42)\n",
        "group1 = np.random.normal(loc=10, scale=2, size=30)\n",
        "group2 = np.random.normal(loc=12, scale=2, size=30)\n",
        "group3 = np.random.normal(loc=15, scale=2, size=30)\n",
        "\n",
        "\n",
        "data = pd.DataFrame({'Group': ['Group 1'] * 30 + ['Group 2'] * 30 + ['Group 3'] * 30,\n",
        "                     'Value': np.concatenate([group1, group2, group3])})\n",
        "\n",
        "\n",
        "fvalue, pvalue = stats.f_oneway(group1, group2, group3)\n",
        "\n",
        "\n",
        "print(\"F-statistic:\", fvalue)\n",
        "print(\"P-value:\", pvalue)\n",
        "\n",
        "\n",
        "plt.figure(figsize=(8, 6))\n",
        "sns.boxplot(x='Group', y='Value', data=data)\n",
        "plt.title('One-way ANOVA Results')\n",
        "plt.xlabel('Groups')\n",
        "plt.ylabel('Values')\n",
        "plt.show()"
      ],
      "metadata": {
        "colab": {
          "base_uri": "https://localhost:8080/",
          "height": 599
        },
        "id": "Qpu0EfL3qBx-",
        "outputId": "31448f34-4f64-486a-83f0-9057f7d2ffd1"
      },
      "execution_count": 10,
      "outputs": [
        {
          "output_type": "stream",
          "name": "stdout",
          "text": [
            "F-statistic: 62.593948680975046\n",
            "P-value: 1.4346335605028342e-17\n"
          ]
        },
        {
          "output_type": "display_data",
          "data": {
            "text/plain": [
              "<Figure size 800x600 with 1 Axes>"
            ],
            "image/png": "[encoded data removed]"
          },
          "metadata": {}
        }
      ]
    },
    {
      "cell_type": "code",
      "source": [
        "# Q23=> Simulate random data from a normal distribution, then perform hypothesis testing to evaluate the means?\n",
        "\n",
        "import numpy as np\n",
        "from scipy import stats\n",
        "\n",
        "\n",
        "np.random.seed(42)\n",
        "sample_size = 100\n",
        "population_mean = 50\n",
        "population_std = 10\n",
        "sample_data = np.random.normal(loc=population_mean, scale=population_std, size=sample_size)\n",
        "\n",
        "\n",
        "t_statistic, p_value = stats.ttest_1samp(sample_data, popmean=population_mean)\n",
        "\n",
        "print(\"T-statistic:\", t_statistic)\n",
        "print(\"P-value:\", p_value)\n",
        "\n",
        "\n",
        "alpha = 0.05\n",
        "if p_value < alpha:\n",
        "    print(\"Reject the null hypothesis: The population mean is likely different from 50.\")\n",
        "else:\n",
        "    print(\"Fail to reject the null hypothesis: There is not enough evidence to suggest the population mean is different from 50.\")"
      ],
      "metadata": {
        "colab": {
          "base_uri": "https://localhost:8080/"
        },
        "id": "43jApxbKpxdk",
        "outputId": "34f74e0a-0f90-484e-8bf1-15cba20cfb22"
      },
      "execution_count": 9,
      "outputs": [
        {
          "output_type": "stream",
          "name": "stdout",
          "text": [
            "T-statistic: -1.1434720057588346\n",
            "P-value: 0.2556001762530408\n",
            "Fail to reject the null hypothesis: There is not enough evidence to suggest the population mean is different from 50.\n"
          ]
        }
      ]
    },
    {
      "cell_type": "code",
      "source": [
        "# Q24=> Perform a hypothesis test for population variance using a Chi-square distribution and interpret the results?\n",
        "\n",
        "import numpy as np\n",
        "from scipy.stats import chi2\n",
        "\n",
        "def variance_test(sample_data, hypothesized_variance, alpha=0.05):\n",
        "\n",
        "\n",
        "    n = len(sample_data)\n",
        "    sample_variance = np.var(sample_data, ddof=1)\n",
        "\n",
        "    chi2_statistic = (n - 1) * sample_variance / hypothesized_variance\n",
        "    p_value = 2 * min(chi2.cdf(chi2_statistic, n - 1), chi2.sf(chi2_statistic, n - 1))\n",
        "\n",
        "\n",
        "    if p_value < alpha:\n",
        "        decision = \"Reject the null hypothesis\"\n",
        "    else:\n",
        "        decision = \"Fail to reject the null hypothesis\"\n",
        "\n",
        "    return chi2_statistic, p_value, decision\n",
        "\n",
        "\n",
        "sample_data = np.array([12, 15, 18, 20, 22, 25, 17, 19, 23, 21])\n",
        "hypothesized_variance = 10\n",
        "alpha = 0.05\n",
        "\n",
        "chi2_statistic, p_value, decision = variance_test(sample_data, hypothesized_variance, alpha)\n",
        "\n",
        "print(\"Chi-square Statistic:\", chi2_statistic)\n",
        "print(\"P-value:\", p_value)\n",
        "print(\"Decision:\", decision)\n"
      ],
      "metadata": {
        "colab": {
          "base_uri": "https://localhost:8080/"
        },
        "id": "qlgSiWw0piWZ",
        "outputId": "233ff61d-dd34-43a8-eab2-dfc322b0826c"
      },
      "execution_count": 8,
      "outputs": [
        {
          "output_type": "stream",
          "name": "stdout",
          "text": [
            "Chi-square Statistic: 13.559999999999999\n",
            "P-value: 0.2777204488080519\n",
            "Decision: Fail to reject the null hypothesis\n"
          ]
        }
      ]
    },
    {
      "cell_type": "code",
      "source": [
        "# Q25=> Write a Python script to perform a Z-test for comparing proportions between two datasets or groups?\n",
        "\n",
        "import numpy as np\n",
        "from statsmodels.stats.proportion import proportions_ztest\n",
        "\n",
        "def two_sample_z_test_proportions(successes1, n1, successes2, n2, alternative='two-sided'):\n",
        "\n",
        "    count = np.array([successes1, successes2])\n",
        "    nobs = np.array([n1, n2])\n",
        "\n",
        "    z_statistic, p_value = proportions_ztest(count, nobs, alternative=alternative)\n",
        "\n",
        "    return z_statistic, p_value\n",
        "\n",
        "\n",
        "successes1 = 120\n",
        "n1 = 200\n",
        "successes2 = 85\n",
        "n2 = 150\n",
        "\n",
        "z_statistic, p_value = two_sample_z_test_proportions(successes1, n1, successes2, n2)\n",
        "\n",
        "print(\"Z-statistic:\", z_statistic)\n",
        "print(\"P-value:\", p_value)\n",
        "\n",
        "\n",
        "alpha = 0.05\n",
        "if p_value < alpha:\n",
        "    print(\"Reject the null hypothesis: There is a significant difference in proportions between the two groups.\")\n",
        "else:\n",
        "    print(\"Fail to reject the null hypothesis: There is no significant difference in proportions between the two groups.\")"
      ],
      "metadata": {
        "colab": {
          "base_uri": "https://localhost:8080/"
        },
        "id": "-WsbxBpcpOIE",
        "outputId": "646b37c6-6b45-453b-938c-aea8ea1261ba"
      },
      "execution_count": 7,
      "outputs": [
        {
          "output_type": "stream",
          "name": "stdout",
          "text": [
            "Z-statistic: 0.6264875764829853\n",
            "P-value: 0.5309951831015157\n",
            "Fail to reject the null hypothesis: There is no significant difference in proportions between the two groups.\n"
          ]
        }
      ]
    },
    {
      "cell_type": "code",
      "source": [
        "# Q26=> Implement an F-test for comparing the variances of two datasets, then interpret and visualize the results?\n",
        "\n",
        "import numpy as np\n",
        "from scipy.stats import f\n",
        "import matplotlib.pyplot as plt\n",
        "\n",
        "\n",
        "np.random.seed(42)\n",
        "data1 = np.random.normal(loc=10, scale=2, size=30)\n",
        "data2 = np.random.normal(loc=12, scale=3, size=40)\n",
        "\n",
        "\n",
        "f_statistic = np.var(data1, ddof=1) / np.var(data2, ddof=1)\n",
        "df1 = len(data1) - 1\n",
        "df2 = len(data2) - 1\n",
        "p_value = f.sf(f_statistic, df1, df2)\n",
        "\n",
        "\n",
        "print(\"F-statistic:\", f_statistic)\n",
        "print(\"P-value:\", p_value)\n",
        "\n",
        "\n",
        "alpha = 0.05\n",
        "if p_value < alpha:\n",
        "    print(\"Reject the null hypothesis: The variances are significantly different.\")\n",
        "else:\n",
        "    print(\"Fail to reject the null hypothesis: There is no significant difference between the variances.\")\n",
        "\n",
        "\n",
        "x = np.linspace(0, 5, 100)\n",
        "y = f.pdf(x, df1, df2)\n",
        "plt.plot(x, y, label='F-distribution')\n",
        "plt.axvline(x=f_statistic, color='red', linestyle='--', label='F-statistic')\n",
        "plt.fill_between(x, y, where=(x > f.ppf(1 - alpha, df1, df2)), color='red', alpha=0.2, label='Rejection region')\n",
        "plt.xlabel('F-statistic')\n",
        "plt.ylabel('Probability Density')\n",
        "plt.title('F-test for Comparing Variances')\n",
        "plt.legend()\n",
        "plt.show()"
      ],
      "metadata": {
        "colab": {
          "base_uri": "https://localhost:8080/",
          "height": 524
        },
        "id": "zbMRglMNoy_l",
        "outputId": "ce1df221-36e3-43a1-ae8e-d6534000aead"
      },
      "execution_count": 6,
      "outputs": [
        {
          "output_type": "stream",
          "name": "stdout",
          "text": [
            "F-statistic: 0.4360103269977936\n",
            "P-value: 0.9887609207341927\n",
            "Fail to reject the null hypothesis: There is no significant difference between the variances.\n"
          ]
        },
        {
          "output_type": "display_data",
          "data": {
            "text/plain": [
              "<Figure size 640x480 with 1 Axes>"
            ],
            "image/png": "[encoded data removed]"
          },
          "metadata": {}
        }
      ]
    },
    {
      "cell_type": "code",
      "source": [
        "# Q27=> Perform a Chi-square test for goodness of fit with simulated data and analyze the results?\n",
        "\n",
        "\n",
        "import numpy as np\n",
        "from scipy.stats import chisquare\n",
        "\n",
        "\n",
        "np.random.seed(42)\n",
        "observed_frequencies = np.random.randint(10, 50, size=5)\n",
        "\n",
        "expected_proportions = [0.2, 0.3, 0.1, 0.25, 0.15]\n",
        "total_observations = np.sum(observed_frequencies)\n",
        "expected_frequencies = expected_proportions * total_observations\n",
        "\n",
        "\n",
        "chi2_statistic, p_value = chisquare(f_obs=observed_frequencies, f_exp=expected_frequencies)\n",
        "\n",
        "\n",
        "print(\"Observed Frequencies:\", observed_frequencies)\n",
        "print(\"Expected Frequencies:\", expected_frequencies)\n",
        "print(\"Chi-square Statistic:\", chi2_statistic)\n",
        "print(\"P-value:\", p_value)\n",
        "\n",
        "\n",
        "alpha = 0.05\n",
        "if p_value < alpha:\n",
        "    print(\"Reject the null hypothesis: The observed distribution is significantly different from the expected distribution.\")\n",
        "else:\n",
        "    print(\"Fail to reject the null hypothesis: There is no significant difference between the observed and expected distributions.\")\n",
        "\n",
        "\n"
      ],
      "metadata": {
        "id": "ZOdCoyt0mbfi"
      },
      "execution_count": null,
      "outputs": []
    },
    {
      "cell_type": "markdown",
      "source": [],
      "metadata": {
        "id": "IYWIMVcQmlP4"
      }
    }
  ]
}